{
  "cells": [
    {
      "cell_type": "markdown",
      "source": [
        "# HW3P2 Checkpoint Submission (DUE 31 October 2025 @ 11:59PM EST)\n"
      ],
      "metadata": {
        "id": "2kEMDg9AZKHh"
      },
      "id": "2kEMDg9AZKHh"
    },
    {
      "cell_type": "markdown",
      "source": [
        "## Acknowledgement Requirement\n",
        "Before starting this checkpoint assignment:\n",
        "1. Remember to FREQUENTLY click \"Runtime\" > \"Run All\" or \"Run Before\" to make sure all necessary cells have re-executed after changing your answers.\n",
        "2. You MUST complete the HW3P2 notebook (not this checkpoint notebook) and submit a sufficient score to Kaggle to complete this checkpoint assignment.\n",
        "3. We highly recommend working on this in **GOOGLE COLAB** (set your runtime to CPU-only to save compute units)\n",
        "4. You may submit this to autolab before completing the Kaggle checkpoint to check your quiz answers (You will still need to put your kaggle username and api key). Just make sure you resubmit again later AFTER you have achieved checkpoint cutoff as well.\n",
        "5. Slack days may ONLY be used on P2 final submission. Not Checkpoint submission, and not P1 submissions of any kind.\n",
        "\n",
        "\n",
        "Notes for the competition/submission details:\n",
        "1. Do not attempt to tamper with this submission file. We will require your kaggle username here, and cross-check your autolab score with your official kaggle leaderboard score.\n",
        "2. You are NOT allowed to use any code that will pre-load models (such as those from Hugging Face, etc.).\n",
        "   You MAY use models described by papers or articles, but you MUST implement them yourself through fundamental PyTorch operations (Linear, Conv2d, etc.).\n",
        "3. You are NOT allowed to use any external datasets or data that are not part of this competition at ANY point of the training.\n",
        "4. While you are allowed to work with teammates to run ablations/experiments,\n",
        "   you must submit your OWN code and your OWN results.\n",
        "5. Failure to comply with the prior rules will be considered an Academic Integrity Violation (AIV).\n",
        "6. Late submissions MUST be submitted through the Slack Kaggle (see writeup for details). Any submissions made to the regular Kaggle after the original deadline will NOT be considered, no matter how many slack days remain for the student.\n",
        "\n",
        "\n",
        "Final notes:\n",
        "1. A FULL score is required on the MCQ, and kaggle submission must reach the checkpoint cutoff in order to receive 10/10 on this assignment.\n",
        "\n",
        "\n",
        "#Only set Acknowledged to True (check-marking the box) if you have read the above acknowlegement and agree to it."
      ],
      "metadata": {
        "id": "6bqfkxVjJdEj"
      },
      "id": "6bqfkxVjJdEj"
    },
    {
      "cell_type": "code",
      "source": [
        "# @title Acknowledgement {\"run\":\"auto\",\"vertical-output\":true,\"form-width\":\"75%\",\"display-mode\":\"form\"}\n",
        "ACKNOWLEDGED = True # @param {\"type\":\"boolean\"}\n"
      ],
      "metadata": {
        "id": "uLFHu_nMfyjv"
      },
      "id": "uLFHu_nMfyjv",
      "execution_count": null,
      "outputs": []
    },
    {
      "cell_type": "markdown",
      "source": [
        "## Multiple Choice Questions\n"
      ],
      "metadata": {
        "id": "i2FH5kvvJtKE"
      },
      "id": "i2FH5kvvJtKE"
    },
    {
      "cell_type": "markdown",
      "source": [
        "### Question 1\n"
      ],
      "metadata": {
        "id": "I5Qj-V5nKCPU"
      },
      "id": "I5Qj-V5nKCPU"
    },
    {
      "cell_type": "markdown",
      "source": [
        "What is the loss that we use in this homework?"
      ],
      "metadata": {
        "id": "-N4TK5t1P-l4"
      },
      "id": "-N4TK5t1P-l4"
    },
    {
      "cell_type": "markdown",
      "source": [
        "- A: Triplet Loss\n",
        "- B: MSE Loss\n",
        "- C: CTC Loss\n",
        "- D: Cross Entropy"
      ],
      "metadata": {
        "id": "2jkk-602P7PQ"
      },
      "id": "2jkk-602P7PQ"
    },
    {
      "cell_type": "code",
      "source": [
        "# @title Q1 {\"run\":\"auto\",\"vertical-output\":true,\"form-width\":\"50%\"}\n",
        "QUESTION_1_ANSWER = \"\" #@param [\"\", \"A\", \"B\", \"C\", \"D\"]"
      ],
      "metadata": {
        "id": "i_REgBUoKAt7",
        "cellView": "form"
      },
      "id": "i_REgBUoKAt7",
      "execution_count": null,
      "outputs": []
    },
    {
      "cell_type": "markdown",
      "source": [
        "### Question 2"
      ],
      "metadata": {
        "id": "DRUXPuIgQhdh"
      },
      "id": "DRUXPuIgQhdh"
    },
    {
      "cell_type": "markdown",
      "source": [
        "How many mfccs are present in the train-clean-100 dataset?"
      ],
      "metadata": {
        "id": "TdIVOku-Qn8_"
      },
      "id": "TdIVOku-Qn8_"
    },
    {
      "cell_type": "code",
      "source": [
        "# @title Q2 {\"run\":\"auto\",\"vertical-output\":true,\"form-width\":\"50%\"}\n",
        "QUESTION_2_ANSWER = None #@param {type:\"integer\"}"
      ],
      "metadata": {
        "id": "tdPPBra-Q55W",
        "cellView": "form"
      },
      "id": "tdPPBra-Q55W",
      "execution_count": null,
      "outputs": []
    },
    {
      "cell_type": "markdown",
      "source": [
        "### Question 3\n"
      ],
      "metadata": {
        "id": "xk0XTHc6RrqW"
      },
      "id": "xk0XTHc6RrqW"
    },
    {
      "cell_type": "markdown",
      "source": [
        "Map the below given sequence of phonemes using CMUdict_ARPAabet (including proper capitalization).\n",
        "\n",
        "'B', 'IH', 'K', 'SH', 'AA'\n",
        "\n",
        "Do not put spaces between the labels. Example of valid format:\n",
        "\n",
        "AbCdE"
      ],
      "metadata": {
        "id": "dLgFbMPgRrqX"
      },
      "id": "dLgFbMPgRrqX"
    },
    {
      "cell_type": "code",
      "source": [
        "# @title Q3 {\"run\":\"auto\",\"vertical-output\":true,\"form-width\":\"50%\"}\n",
        "QUESTION_3_ANSWER = \"\" #@param {type: \"string\"}"
      ],
      "metadata": {
        "id": "vgw9X6-jRrqY",
        "cellView": "form"
      },
      "execution_count": null,
      "outputs": [],
      "id": "vgw9X6-jRrqY"
    },
    {
      "cell_type": "markdown",
      "source": [
        "### Question 4\n"
      ],
      "metadata": {
        "id": "I17gUoHzR-mz"
      },
      "id": "I17gUoHzR-mz"
    },
    {
      "cell_type": "markdown",
      "source": [
        "When using torchaudio's CUDA CTC Decoder, what should be the output of your model (i.e., the input to the decoder)?\n",
        "\n",
        "Hint: Please refer to torchaudio's CUDA CTC Decoder documentation (https://docs.pytorch.org/audio/2.1/generated/torchaudio.models.decoder.cuda_ctc_decoder.html) for more details"
      ],
      "metadata": {
        "id": "AMueiXO5oMCe"
      },
      "id": "AMueiXO5oMCe"
    },
    {
      "cell_type": "markdown",
      "source": [
        "- **A**: Raw logits\n",
        "- **B**: Wooden logs from Cedar trees\n",
        "- **C**: Probabilities (after applying softmax)\n",
        "- **D**: Log probabilities (after applying log_softmax)\n"
      ],
      "metadata": {
        "id": "V1eBmUr2oNZS"
      },
      "id": "V1eBmUr2oNZS"
    },
    {
      "cell_type": "code",
      "source": [
        "# @title Q4 {\"run\":\"auto\",\"vertical-output\":true,\"form-width\":\"50%\"}\n",
        "QUESTION_4_ANSWER = \"\" #@param [\"\", \"A\", \"B\", \"C\", \"D\"]"
      ],
      "metadata": {
        "id": "AgjURww2R-m0",
        "cellView": "form"
      },
      "execution_count": null,
      "outputs": [],
      "id": "AgjURww2R-m0"
    },
    {
      "cell_type": "markdown",
      "source": [
        "### Question 5"
      ],
      "metadata": {
        "id": "v0-1cyrNSRIK"
      },
      "id": "v0-1cyrNSRIK"
    },
    {
      "cell_type": "markdown",
      "source": [
        "What is the shape of the **log_probs** required as input for CTCLoss? Consider input length as L, batch size as B, output classes as C."
      ],
      "metadata": {
        "id": "zC0odn_YSRIL"
      },
      "id": "zC0odn_YSRIL"
    },
    {
      "cell_type": "markdown",
      "source": [
        "- **A**: L, B, C\n",
        "- **B**: C, B, L\n",
        "- **C**: L, C, B\n",
        "- **D**: B, L, C"
      ],
      "metadata": {
        "id": "lAvIq6-nSRIL"
      },
      "id": "lAvIq6-nSRIL"
    },
    {
      "cell_type": "code",
      "source": [
        "# @title Q5 {\"run\":\"auto\",\"vertical-output\":true,\"form-width\":\"50%\"}\n",
        "QUESTION_5_ANSWER = \"\" #@param [\"\", \"A\", \"B\", \"C\", \"D\"]"
      ],
      "metadata": {
        "id": "AGoOsTlASRIM",
        "cellView": "form"
      },
      "execution_count": null,
      "outputs": [],
      "id": "AGoOsTlASRIM"
    },
    {
      "cell_type": "markdown",
      "source": [
        "### Question 6"
      ],
      "metadata": {
        "id": "rz_Id4L3SskB"
      },
      "id": "rz_Id4L3SskB"
    },
    {
      "cell_type": "markdown",
      "source": [
        "In your starter code provided, you are asked to declare the decoder by using PyTorch Cuda CTC Decoder to decode phonemes\n",
        "\n",
        " What does the nbest parameter in cuda_ctc_decoder control?\n",
        "\n",
        "(**Hint:** check the docs: https://pytorch.org/audio/2.1/generated/torchaudio.models.decoder.cuda_ctc_decoder.htmlLinks to an external site)"
      ],
      "metadata": {
        "id": "EZ1Ghf2PSskC"
      },
      "id": "EZ1Ghf2PSskC"
    },
    {
      "cell_type": "markdown",
      "source": [
        "- **A**: The number of beams used during beam search decoding.\n",
        "- **B**: The number of best phoneme sequences to return for each audio input.\n",
        "- **C**: The maximum length of the predicted phoneme sequence."
      ],
      "metadata": {
        "id": "OQAQjExOXmnC"
      },
      "id": "OQAQjExOXmnC"
    },
    {
      "cell_type": "code",
      "source": [
        "# @title Q6 {\"run\":\"auto\",\"vertical-output\":true,\"form-width\":\"50%\"}\n",
        "QUESTION_6_ANSWER = \"\" #@param [\"\", \"A\", \"B\", \"C\"]"
      ],
      "metadata": {
        "id": "aMEiMtkoSskD",
        "cellView": "form"
      },
      "execution_count": null,
      "outputs": [],
      "id": "aMEiMtkoSskD"
    },
    {
      "cell_type": "markdown",
      "source": [
        "### Question 7"
      ],
      "metadata": {
        "id": "m2fwX_5ATG-5"
      },
      "id": "m2fwX_5ATG-5"
    },
    {
      "cell_type": "markdown",
      "source": [
        "In a Gated Recurrent Unit (GRU) cell, which of the following statements accurately describes the purpose of the reset gate?"
      ],
      "metadata": {
        "id": "B1XX1k-GTG-6"
      },
      "id": "B1XX1k-GTG-6"
    },
    {
      "cell_type": "markdown",
      "source": [
        "- **A**: The reset gate controls how much of the current input should be combined with the previous hidden state.\n",
        "- **B**: The reset gate determines how much of the previous hidden state should be passed to the current time step.\n",
        "- **C**: The reset gate helps the model decide whether to update the candidate hidden state based on the previous hidden state."
      ],
      "metadata": {
        "id": "Durf0-LhTG-6"
      },
      "id": "Durf0-LhTG-6"
    },
    {
      "cell_type": "code",
      "source": [
        "# @title Q7 {\"run\":\"auto\",\"vertical-output\":true,\"form-width\":\"50%\"}\n",
        "QUESTION_7_ANSWER = \"\" #@param [\"\", \"A\", \"B\", \"C\"]"
      ],
      "metadata": {
        "id": "JF1G1fpYTG-6",
        "cellView": "form"
      },
      "execution_count": null,
      "outputs": [],
      "id": "JF1G1fpYTG-6"
    },
    {
      "cell_type": "markdown",
      "source": [
        "### Question 8"
      ],
      "metadata": {
        "id": "fSkBdzMKTlXV"
      },
      "id": "fSkBdzMKTlXV"
    },
    {
      "cell_type": "markdown",
      "source": [
        "In the context of natural language processing, what is the main purpose of using beam search during sequence generation?"
      ],
      "metadata": {
        "id": "T1Xm9JPZTlXX"
      },
      "id": "T1Xm9JPZTlXX"
    },
    {
      "cell_type": "markdown",
      "source": [
        "- **A**: To find the highest probability sequence in a sequence generation model.\n",
        "- **B**: To explore multiple possible sequences and maintain a set of top-K candidates.\n",
        "- **C**: To optimize the model's parameters during training.\n",
        "- **D**: None of the above.\n"
      ],
      "metadata": {
        "id": "mP-gUK2hTlXX"
      },
      "id": "mP-gUK2hTlXX"
    },
    {
      "cell_type": "code",
      "source": [
        "# @title Q8 {\"run\":\"auto\",\"vertical-output\":true,\"form-width\":\"50%\"}\n",
        "QUESTION_8_ANSWER = \"\" #@param [\"\", \"A\", \"B\", \"C\", \"D\"]"
      ],
      "metadata": {
        "id": "QfseI8_vTlXY",
        "cellView": "form"
      },
      "execution_count": null,
      "outputs": [],
      "id": "QfseI8_vTlXY"
    },
    {
      "cell_type": "markdown",
      "source": [
        "### Question 9"
      ],
      "metadata": {
        "id": "U_INd3PAUGdr"
      },
      "id": "U_INd3PAUGdr"
    },
    {
      "cell_type": "markdown",
      "source": [
        "Which of the following statements is incorrect?"
      ],
      "metadata": {
        "id": "Z_u_2rbXUGdr"
      },
      "id": "Z_u_2rbXUGdr"
    },
    {
      "cell_type": "markdown",
      "source": [
        "- **A**:\n",
        "The derivative of a scalar $L$ w.r.t an $N \\times M$ matrix $X$ is an $M \\times N$ matrix.\n",
        "\n",
        "- **B**:\n",
        "The derivative of an $N \\times 1$ vector $Y$ w.r.t an $M \\times 1$ vector $X$ is an $M \\times N$ matrix.\n",
        "\n",
        "- **C**:\n",
        "The derivative of a scalar $L$ w.r.t an $N \\times 1$ column vector $x$ is a $1 \\times N$ row vector $𝛻xL$"
      ],
      "metadata": {
        "id": "w65ofmdXYuGX"
      },
      "id": "w65ofmdXYuGX"
    },
    {
      "cell_type": "code",
      "source": [
        "# @title Q9 {\"run\":\"auto\",\"vertical-output\":true,\"form-width\":\"50%\"}\n",
        "QUESTION_9_ANSWER = \"\" #@param [\"\", \"A\", \"B\", \"C\"]"
      ],
      "metadata": {
        "id": "cfVJKjCEUGds",
        "cellView": "form"
      },
      "execution_count": null,
      "outputs": [],
      "id": "cfVJKjCEUGds"
    },
    {
      "cell_type": "markdown",
      "source": [
        "### Question 10"
      ],
      "metadata": {
        "id": "7cQFyubJUZn_"
      },
      "id": "7cQFyubJUZn_"
    },
    {
      "cell_type": "markdown",
      "source": [
        "What does CTC stand for in the context of neural network training for sequence-to-sequence tasks, and what is its primary purpose?"
      ],
      "metadata": {
        "id": "6kNdBGx4UZoA"
      },
      "id": "6kNdBGx4UZoA"
    },
    {
      "cell_type": "markdown",
      "source": [
        "- **A**:\n",
        "CTC stands for \"Connectionist Temporal Classification\" and is utilized for training sequence-to-sequence models where the alignment between input and output sequences is not one-to-one.\n",
        "\n",
        "- **B**:\n",
        "CTC stands for \"Comprehensive Textual Classification\" and is designed for classifying complex textual data into multiple categories.\n",
        "\n",
        "- **C**:\n",
        "CTC stands for \"Characteristic Task Calibration\" and is used for adjusting hyperparameters in deep learning models.\n",
        "\n",
        "- **D**:\n",
        "CTC stands for \"Cyclic Temporal Compression\" and is employed to compress time-series data for efficient storage and processing."
      ],
      "metadata": {
        "id": "Vz_rzb0QUZoA"
      },
      "id": "Vz_rzb0QUZoA"
    },
    {
      "cell_type": "code",
      "source": [
        "# @title Q10 {\"run\":\"auto\",\"vertical-output\":true,\"form-width\":\"50%\"}\n",
        "QUESTION_10_ANSWER = \"\" #@param [\"\", \"A\", \"B\", \"C\", \"D\"]"
      ],
      "metadata": {
        "id": "NHinxqMfUZoA",
        "cellView": "form"
      },
      "execution_count": null,
      "outputs": [],
      "id": "NHinxqMfUZoA"
    },
    {
      "cell_type": "markdown",
      "source": [
        "### Question 11"
      ],
      "metadata": {
        "id": "2_ULyxnU4SQ1"
      },
      "id": "2_ULyxnU4SQ1"
    },
    {
      "cell_type": "markdown",
      "source": [
        "For CTC decoding, what is not true about the use of blank symbol?"
      ],
      "metadata": {
        "id": "bPEHuRR_4SQ2"
      },
      "id": "bPEHuRR_4SQ2"
    },
    {
      "cell_type": "markdown",
      "source": [
        "- **A**:\n",
        "It is not part of our SymbolSets.\n",
        "\n",
        "- **B**:\n",
        "y-probs contains the probability that '-' occurs in each timestep as well as the probability of other symbols occurring at each time step.\n",
        "\n",
        "- **C**:\n",
        "It is represented as '-' in the writeup.\n",
        "\n",
        "- **D**:\n",
        "It can appear in our decoded result."
      ],
      "metadata": {
        "id": "Ysk7Kg9T4SQ2"
      },
      "id": "Ysk7Kg9T4SQ2"
    },
    {
      "cell_type": "code",
      "source": [
        "# @title Q11 {\"run\":\"auto\",\"vertical-output\":true,\"form-width\":\"50%\"}\n",
        "QUESTION_11_ANSWER = \"\" #@param [\"\", \"A\", \"B\", \"C\", \"D\"]"
      ],
      "metadata": {
        "id": "f5kYATvw4SQ3"
      },
      "execution_count": null,
      "outputs": [],
      "id": "f5kYATvw4SQ3"
    },
    {
      "cell_type": "markdown",
      "source": [
        "## Kaggle Early Submission Credentials"
      ],
      "metadata": {
        "id": "c5JeisyK6aP3"
      },
      "id": "c5JeisyK6aP3"
    },
    {
      "cell_type": "code",
      "execution_count": null,
      "metadata": {
        "id": "ae22d285"
      },
      "outputs": [],
      "source": [
        "# These are required, even if you are trying to check quiz questions only.\n",
        "KAGGLE_USERNAME = \"EnterKaggleUsername\" # TODO: replace with your Kaggle username\n",
        "KAGGLE_KEY = \"EnterKaggleKey\" # TODO: replace with your Kaggle API key"
      ],
      "id": "ae22d285"
    },
    {
      "cell_type": "code",
      "source": [
        "!pip install --upgrade --force-reinstall --no-deps kaggle==1.7.4.2 --quiet # TODO: Install dependcies for subission"
      ],
      "metadata": {
        "id": "21dQSxDlHFkt"
      },
      "id": "21dQSxDlHFkt",
      "execution_count": null,
      "outputs": []
    },
    {
      "cell_type": "markdown",
      "source": [
        "# Assignment Backend Functions (DO NOT MODIFY)\n"
      ],
      "metadata": {
        "id": "KAvR2avMf2Bd"
      },
      "id": "KAvR2avMf2Bd"
    },
    {
      "cell_type": "code",
      "source": [
        "# DO NOT MODIFY the following lines. Any mistakes in the output may result in a zero grade for the assignment.\n",
        "\n",
        "from datetime import datetime, timezone\n",
        "import zoneinfo\n",
        "\n",
        "##########################################\n",
        "#      Assignment Configs\n",
        "##########################################\n",
        "\n",
        "COMPETITION_NAME = \"11785-hw-3-p-2-speech-recognition-fall-2025\"\n",
        "CHECKPOINT_SUBMISSION_DATE = \"2025-10-31 23:59:59\"\n",
        "CHECKPOINT_CUTOFF_SCORE = 12.0\n",
        "\n",
        "GRADING_DIRECTION = \"descending\" # Set to \"ascending\" if higher is a better score, and \"descending\" if lower is a better score.\n",
        "\n",
        "eastern = zoneinfo.ZoneInfo(\"America/New_York\")\n",
        "CHECKPOINT_DEADLINE_UTC = (\n",
        "    datetime.strptime(CHECKPOINT_SUBMISSION_DATE, \"%Y-%m-%d %H:%M:%S\")\n",
        "    .replace(tzinfo=eastern)\n",
        "    .astimezone(timezone.utc)\n",
        ")\n",
        "\n",
        "def multi_answer_validator(valid_options: set[str]):\n",
        "    \"\"\"\n",
        "    Returns a validator function that:\n",
        "    - Accepts a comma-separated string of answers\n",
        "    - Ensures all answers are valid (in the given set)\n",
        "    - Trims whitespace and converts to uppercase\n",
        "    - Rejects duplicates and empty answers\n",
        "    \"\"\"\n",
        "    return lambda v: (\n",
        "        isinstance(v, str)\n",
        "        and (choices := [a.strip() for a in v.upper().split(\",\") if a.strip()])\n",
        "        and all(choice in valid_options for choice in choices)\n",
        "        and len(choices) == len(set(choices))  # no duplicates\n",
        "    )\n",
        "\n",
        "\n",
        "# Each question has either a \"valid\" list or a \"custom\" lambda for validation\n",
        "question_config = {\n",
        "    1: {\"valid\": [\"A\", \"B\", \"C\", \"D\"]},\n",
        "    2: {\"custom\": lambda v: isinstance(v, int) and v >= 0},\n",
        "    3: {\"custom\": lambda v: isinstance(v, str) and len(v) > 0},  # Must be non-empty string\n",
        "    4: {\"valid\": [\"A\", \"B\", \"C\", \"D\"]},\n",
        "    5: {\"valid\": [\"A\", \"B\", \"C\", \"D\"]},\n",
        "    6: {\"valid\": [\"A\", \"B\", \"C\"]},\n",
        "    7: {\"valid\": [\"A\", \"B\", \"C\"]},\n",
        "    8: {\"valid\": [\"A\", \"B\", \"C\", \"D\"]},\n",
        "    9: {\"valid\": [\"A\", \"B\", \"C\"]},\n",
        "    10: {\"valid\": [\"A\", \"B\", \"C\", \"D\"]},\n",
        "    11: {\"valid\": [\"A\", \"B\", \"C\", \"D\"]},\n",
        "}\n",
        "\n",
        "##################################################################################\n",
        "\n",
        "def validate_quiz_questions():\n",
        "    answers = {}\n",
        "    valid_flags = {}\n",
        "    all_valid = True\n",
        "\n",
        "    for qnum, rules in question_config.items():\n",
        "        var_name = f\"QUESTION_{qnum}_ANSWER\"\n",
        "        value = globals().get(var_name)\n",
        "\n",
        "        # Check if answer was provided at all\n",
        "        if value is None:\n",
        "            print(f'ERROR: Question {qnum}: Answer is missing (cell might not have been run).')\n",
        "            valid_flags[qnum] = False\n",
        "            all_valid = False\n",
        "            continue\n",
        "\n",
        "        answers[qnum] = value\n",
        "\n",
        "        # Apply validation rule\n",
        "        if \"custom\" in rules:\n",
        "            is_valid = rules[\"custom\"](value)\n",
        "        elif \"valid\" in rules:\n",
        "            is_valid = value in rules[\"valid\"]\n",
        "        else:\n",
        "            is_valid = False  # Should not occur unless config is broken\n",
        "\n",
        "        valid_flags[qnum] = is_valid\n",
        "\n",
        "        # Report result\n",
        "        if is_valid:\n",
        "            print(f'OK: Question {qnum}: {value!r}')\n",
        "        else:\n",
        "            print(f'ERROR: Question {qnum}: {value!r} is NOT a valid response.')\n",
        "\n",
        "            all_valid = False\n",
        "\n",
        "    return all_valid, answers\n",
        "\n",
        "\n",
        "import requests\n",
        "import json\n",
        "import os\n",
        "import json\n",
        "from datetime import datetime\n",
        "import sys\n",
        "\n",
        "# Make kaggle user file\n",
        "kaggle_dir = os.path.join(\"/root/.kaggle/\")\n",
        "kaggle_json_path = os.path.join(kaggle_dir, \"kaggle.json\")\n",
        "\n",
        "os.makedirs(kaggle_dir, exist_ok=True)\n",
        "\n",
        "with open(kaggle_json_path, \"w+\") as f:\n",
        "    json.dump({\"username\": KAGGLE_USERNAME, \"key\": KAGGLE_KEY}, f)\n",
        "\n",
        "os.chmod(kaggle_json_path, 0o600)\n",
        "\n",
        "def kaggle_user_exists(username):\n",
        "    if not username or username == \"EnterUserNameHere\":\n",
        "        return False\n",
        "    url = f\"https://www.kaggle.com/{username}\"\n",
        "    try:\n",
        "        response = requests.get(url)\n",
        "        return response.status_code == 200\n",
        "    except Exception as e:\n",
        "        print(f\"ERROR: Error checking Kaggle user: {e}\")\n",
        "        return False\n",
        "\n",
        "def get_competition_status_and_best_score(username, competition_name):\n",
        "    from kaggle.api.kaggle_api_extended import KaggleApi\n",
        "\n",
        "    api = KaggleApi()\n",
        "    try:\n",
        "        api.authenticate()\n",
        "    except Exception as e:\n",
        "        print(f\"ERROR: Kaggle authentication failed: {e}\")\n",
        "        return False, None\n",
        "\n",
        "    try:\n",
        "        submissions = api.competition_submissions(competition_name)\n",
        "    except Exception as e:\n",
        "        print(f\"ERROR: Error fetching submissions: Make sure your kaggle api key is correct and try to restart the runtime and run again.\")\n",
        "        return False, None\n",
        "\n",
        "    if not submissions:\n",
        "        return False, None\n",
        "\n",
        "    def before_deadline(submission_date):\n",
        "        if not submission_date:\n",
        "            return False\n",
        "        if submission_date.tzinfo is None:\n",
        "            submission_date = submission_date.replace(tzinfo=timezone.utc)\n",
        "        return submission_date <= CHECKPOINT_DEADLINE_UTC\n",
        "\n",
        "    user_submissions = [\n",
        "        s for s in submissions\n",
        "        if getattr(s, \"submitted_by\", None) == username\n",
        "        and before_deadline(getattr(s, \"date\", None))\n",
        "    ]\n",
        "\n",
        "    if not user_submissions:\n",
        "        print(f\"ERROR: No valid submissions found for user '{username}' before deadline.\")\n",
        "        return False, None\n",
        "\n",
        "    scores = [\n",
        "        float(s.public_score)\n",
        "        for s in user_submissions\n",
        "        if s.public_score not in [None, '']\n",
        "    ]\n",
        "\n",
        "    if not scores:\n",
        "        best_score = None\n",
        "    elif GRADING_DIRECTION == \"ascending\":\n",
        "        best_score = max(scores)\n",
        "    elif GRADING_DIRECTION == \"descending\":\n",
        "        best_score = min(scores)\n",
        "\n",
        "    return True, best_score\n",
        "\n",
        "def check_kaggle_submission():\n",
        "    if not ACKNOWLEDGED:\n",
        "        print(\"ERROR: You have not acknowledged the rules. Please set ACKNOWLEDGED = True.\")\n",
        "    else:\n",
        "        print(\"OK: You have acknowledged the competition rules.\")\n",
        "\n",
        "\n",
        "    if kaggle_user_exists(KAGGLE_USERNAME):\n",
        "        print(f\"OK: User '{KAGGLE_USERNAME}' account exists on Kaggle.\")\n",
        "    else:\n",
        "        print(f\"ERROR: User '{KAGGLE_USERNAME}' account does not exist. Check your Kaggle username. Even if you are trying to check your quiz questions only, you STILL need your Kaggle Username and API Key.\")\n",
        "\n",
        "    entered, best_score = get_competition_status_and_best_score(KAGGLE_USERNAME, COMPETITION_NAME)\n",
        "\n",
        "    if entered:\n",
        "        print(f\"OK: You have entered the competition '{COMPETITION_NAME}'.\")\n",
        "        if best_score is not None:\n",
        "            if (GRADING_DIRECTION == \"ascending\" and float(best_score) >= CHECKPOINT_CUTOFF_SCORE or\n",
        "            GRADING_DIRECTION == \"descending\" and float(best_score) <= CHECKPOINT_CUTOFF_SCORE):\n",
        "                print(f\"OK: Best public score: {best_score} meets the cutoff score of {CHECKPOINT_CUTOFF_SCORE}.\")\n",
        "            else:\n",
        "                print(f\"ERROR: Best public score: {best_score} does NOT meet the cutoff score of {CHECKPOINT_CUTOFF_SCORE}.\")\n",
        "        else:\n",
        "            print(f\"ERROR: No submissions with a public score.\")\n",
        "    else:\n",
        "        print(f\"ERROR: You have not entered the competition or made a valid submission.\")\n",
        "    return entered, best_score\n",
        "\n",
        "def create_submission_json():\n",
        "    output_json = {}\n",
        "\n",
        "    if not \"ACKNOWLEDGED\" in globals() or not ACKNOWLEDGED:\n",
        "        print(\"ERROR: Please re-run the Acknowledgement requirement section and set to True if you agree to the terms listed\")\n",
        "        return\n",
        "\n",
        "    output_json[\"acknowledgement\"] = ACKNOWLEDGED\n",
        "    all_valid, answers = validate_quiz_questions()\n",
        "    if not all_valid:\n",
        "         raise f'ERROR: Please ensure you have all questions, and re-run all cells.'\n",
        "\n",
        "    kaggle_credentials_provided = (\n",
        "        \"KAGGLE_USERNAME\" in globals()\n",
        "        and \"KAGGLE_KEY\" in globals()\n",
        "        and KAGGLE_USERNAME\n",
        "        and KAGGLE_KEY\n",
        "        and KAGGLE_USERNAME != \"EnterUserNameHere\"\n",
        "    )\n",
        "\n",
        "    if kaggle_credentials_provided:\n",
        "        from kaggle.api.kaggle_api_extended import KaggleApi\n",
        "        kaggle_dir = os.path.join(os.path.expanduser(\"~\"), \".kaggle\")\n",
        "        kaggle_json_path = os.path.join(kaggle_dir, \"kaggle.json\")\n",
        "\n",
        "        os.makedirs(kaggle_dir, exist_ok=True)\n",
        "        with open(kaggle_json_path, \"w\") as f:\n",
        "            json.dump({\"username\": KAGGLE_USERNAME, \"key\": KAGGLE_KEY}, f)\n",
        "        os.chmod(kaggle_json_path, 0o600)\n",
        "\n",
        "        entered, best_score = check_kaggle_submission()\n",
        "\n",
        "        if entered:\n",
        "            output_json['achieved_cutoff'] = (best_score >= CHECKPOINT_CUTOFF_SCORE and GRADING_DIRECTION == \"ascending\" or\n",
        "                                              best_score <= CHECKPOINT_CUTOFF_SCORE and GRADING_DIRECTION == \"descending\")\n",
        "        else:\n",
        "            print(\"WARNING: Not entered in competition. Submission will only check MCQs.\\n REQUIRED: Make sure to resubmit later once Checkpoint cutoff score is reached on Kaggle.\")\n",
        "\n",
        "        output_json['kaggle_username'] = KAGGLE_USERNAME\n",
        "        filename_suffix = \"\"\n",
        "    else:\n",
        "        print(\"WARNING: Kaggle credentials not provided or incomplete. Only quiz questions will be included.\")\n",
        "        filename_suffix = \"_missing_kaggle\"\n",
        "\n",
        "    for qnum, val in answers.items():\n",
        "        output_json[f'Q{qnum}'] = val.upper() if isinstance(val, str) else int(val)\n",
        "\n",
        "    filename = f\"checkpoint_submission{filename_suffix}.json\"\n",
        "\n",
        "    # Save and download\n",
        "    def is_colab():\n",
        "        return \"google.colab\" in sys.modules\n",
        "\n",
        "    if is_colab():\n",
        "        with open(os.path.join(\"/content\", filename), \"w\") as f:\n",
        "            json.dump(output_json, f, indent=2)\n",
        "        from google.colab import files\n",
        "        files.download(filename)\n",
        "    else:\n",
        "        with open(filename, \"w\") as f:\n",
        "            json.dump(output_json, f, indent=2)\n",
        "        print(f\"OK: File saved locally as '{filename}'. Submit to Autolab if needed.\")\n"
      ],
      "metadata": {
        "id": "LnvXM-KS7zrN",
        "colab": {
          "base_uri": "https://localhost:8080/",
          "height": 223
        },
        "outputId": "91e9e43c-5299-422c-9e97-8d6687cb816f"
      },
      "id": "LnvXM-KS7zrN",
      "execution_count": null,
      "outputs": [
        {
          "output_type": "error",
          "ename": "NameError",
          "evalue": "name 'KAGGLE_USERNAME' is not defined",
          "traceback": [
            "\u001b[0;31m---------------------------------------------------------------------------\u001b[0m",
            "\u001b[0;31mNameError\u001b[0m                                 Traceback (most recent call last)",
            "\u001b[0;32m/tmp/ipython-input-2696366752.py\u001b[0m in \u001b[0;36m<cell line: 0>\u001b[0;34m()\u001b[0m\n\u001b[1;32m    107\u001b[0m \u001b[0;34m\u001b[0m\u001b[0m\n\u001b[1;32m    108\u001b[0m \u001b[0;32mwith\u001b[0m \u001b[0mopen\u001b[0m\u001b[0;34m(\u001b[0m\u001b[0mkaggle_json_path\u001b[0m\u001b[0;34m,\u001b[0m \u001b[0;34m\"w+\"\u001b[0m\u001b[0;34m)\u001b[0m \u001b[0;32mas\u001b[0m \u001b[0mf\u001b[0m\u001b[0;34m:\u001b[0m\u001b[0;34m\u001b[0m\u001b[0;34m\u001b[0m\u001b[0m\n\u001b[0;32m--> 109\u001b[0;31m     \u001b[0mjson\u001b[0m\u001b[0;34m.\u001b[0m\u001b[0mdump\u001b[0m\u001b[0;34m(\u001b[0m\u001b[0;34m{\u001b[0m\u001b[0;34m\"username\"\u001b[0m\u001b[0;34m:\u001b[0m \u001b[0mKAGGLE_USERNAME\u001b[0m\u001b[0;34m,\u001b[0m \u001b[0;34m\"key\"\u001b[0m\u001b[0;34m:\u001b[0m \u001b[0mKAGGLE_KEY\u001b[0m\u001b[0;34m}\u001b[0m\u001b[0;34m,\u001b[0m \u001b[0mf\u001b[0m\u001b[0;34m)\u001b[0m\u001b[0;34m\u001b[0m\u001b[0;34m\u001b[0m\u001b[0m\n\u001b[0m\u001b[1;32m    110\u001b[0m \u001b[0;34m\u001b[0m\u001b[0m\n\u001b[1;32m    111\u001b[0m \u001b[0mos\u001b[0m\u001b[0;34m.\u001b[0m\u001b[0mchmod\u001b[0m\u001b[0;34m(\u001b[0m\u001b[0mkaggle_json_path\u001b[0m\u001b[0;34m,\u001b[0m \u001b[0;36m0o600\u001b[0m\u001b[0;34m)\u001b[0m\u001b[0;34m\u001b[0m\u001b[0;34m\u001b[0m\u001b[0m\n",
            "\u001b[0;31mNameError\u001b[0m: name 'KAGGLE_USERNAME' is not defined"
          ]
        }
      ]
    },
    {
      "cell_type": "markdown",
      "source": [
        "# TODO: Submission Generation"
      ],
      "metadata": {
        "id": "vfnuVYLM6mDE"
      },
      "id": "vfnuVYLM6mDE"
    },
    {
      "cell_type": "code",
      "source": [
        "create_submission_json() # TODO: Click \"Runtime\" > \"Run all\"\n",
        "#TODO: If the checkpint_submission.json file does not\n",
        "# automatically bring up a donwload pop-up\n",
        "# Then make sure to entire the files and\n",
        "#manually download the checkpoint_submission.json file."
      ],
      "metadata": {
        "id": "MB84NJ6i6lGz",
        "colab": {
          "base_uri": "https://localhost:8080/",
          "height": 319
        },
        "outputId": "9b6ca89d-af2b-418f-ef16-274925a6679b"
      },
      "id": "MB84NJ6i6lGz",
      "execution_count": null,
      "outputs": [
        {
          "output_type": "stream",
          "name": "stdout",
          "text": [
            "OK: Question 1: 'C'\n",
            "OK: Question 2: 100\n",
            "OK: Question 3: 'B'\n",
            "OK: Question 4: 'D'\n",
            "OK: Question 5: 'C'\n",
            "OK: Question 6: 'B'\n",
            "OK: Question 7: 'B'\n",
            "OK: Question 8: 'D'\n",
            "OK: Question 9: 'B'\n",
            "OK: Question 10: 'C'\n",
            "OK: Question 11: 'C'\n",
            "OK: You have acknowledged the competition rules.\n",
            "ERROR: User 'EnterKaggleUsername' account does not exist. Check your Kaggle username. Even if you are trying to check your quiz questions only, you STILL need your Kaggle Username and API Key.\n",
            "ERROR: Error fetching submissions: Make sure your kaggle api key is correct and try to restart the runtime and run again.\n",
            "ERROR: You have not entered the competition or made a valid submission.\n",
            "WARNING: Not entered in competition. Submission will only check MCQs.\n",
            " REQUIRED: Make sure to resubmit later once Checkpoint cutoff score is reached on Kaggle.\n"
          ]
        },
        {
          "output_type": "display_data",
          "data": {
            "text/plain": [
              "<IPython.core.display.Javascript object>"
            ],
            "application/javascript": [
              "\n",
              "    async function download(id, filename, size) {\n",
              "      if (!google.colab.kernel.accessAllowed) {\n",
              "        return;\n",
              "      }\n",
              "      const div = document.createElement('div');\n",
              "      const label = document.createElement('label');\n",
              "      label.textContent = `Downloading \"${filename}\": `;\n",
              "      div.appendChild(label);\n",
              "      const progress = document.createElement('progress');\n",
              "      progress.max = size;\n",
              "      div.appendChild(progress);\n",
              "      document.body.appendChild(div);\n",
              "\n",
              "      const buffers = [];\n",
              "      let downloaded = 0;\n",
              "\n",
              "      const channel = await google.colab.kernel.comms.open(id);\n",
              "      // Send a message to notify the kernel that we're ready.\n",
              "      channel.send({})\n",
              "\n",
              "      for await (const message of channel.messages) {\n",
              "        // Send a message to notify the kernel that we're ready.\n",
              "        channel.send({})\n",
              "        if (message.buffers) {\n",
              "          for (const buffer of message.buffers) {\n",
              "            buffers.push(buffer);\n",
              "            downloaded += buffer.byteLength;\n",
              "            progress.value = downloaded;\n",
              "          }\n",
              "        }\n",
              "      }\n",
              "      const blob = new Blob(buffers, {type: 'application/binary'});\n",
              "      const a = document.createElement('a');\n",
              "      a.href = window.URL.createObjectURL(blob);\n",
              "      a.download = filename;\n",
              "      div.appendChild(a);\n",
              "      a.click();\n",
              "      div.remove();\n",
              "    }\n",
              "  "
            ]
          },
          "metadata": {}
        },
        {
          "output_type": "display_data",
          "data": {
            "text/plain": [
              "<IPython.core.display.Javascript object>"
            ],
            "application/javascript": [
              "download(\"download_e47543a4-e329-4d40-959b-5ef55609abda\", \"checkpoint_submission.json\", 218)"
            ]
          },
          "metadata": {}
        }
      ]
    }
  ],
  "metadata": {
    "kernelspec": {
      "display_name": "Python 3",
      "name": "python3"
    },
    "language_info": {
      "codemirror_mode": {
        "name": "ipython",
        "version": 3
      },
      "file_extension": ".py",
      "mimetype": "text/x-python",
      "name": "python",
      "nbconvert_exporter": "python",
      "pygments_lexer": "ipython3",
      "version": "3.13.2"
    },
    "colab": {
      "provenance": []
    }
  },
  "nbformat": 4,
  "nbformat_minor": 5
}